{
 "cells": [
  {
   "cell_type": "code",
   "execution_count": 1,
   "metadata": {},
   "outputs": [
    {
     "name": "stdout",
     "output_type": "stream",
     "text": [
      "Requirement already satisfied: bs4 in c:\\users\\dipika\\anaconda3\\lib\\site-packages (0.0.1)\n",
      "Requirement already satisfied: beautifulsoup4 in c:\\users\\dipika\\anaconda3\\lib\\site-packages (from bs4) (4.6.3)\n"
     ]
    },
    {
     "name": "stderr",
     "output_type": "stream",
     "text": [
      "twisted 18.7.0 requires PyHamcrest>=1.9.0, which is not installed.\n",
      "You are using pip version 10.0.1, however version 19.2.3 is available.\n",
      "You should consider upgrading via the 'python -m pip install --upgrade pip' command.\n"
     ]
    }
   ],
   "source": [
    "!pip install bs4\n"
   ]
  },
  {
   "cell_type": "code",
   "execution_count": 2,
   "metadata": {},
   "outputs": [],
   "source": [
    "from urllib.request import urlopen"
   ]
  },
  {
   "cell_type": "code",
   "execution_count": 3,
   "metadata": {},
   "outputs": [
    {
     "name": "stdout",
     "output_type": "stream",
     "text": [
      "<class 'http.client.HTTPResponse'>\n"
     ]
    }
   ],
   "source": [
    "#Make a get request to fetch page data\n",
    "andriod_url = \"https://en.wikipedia.org/wiki/Android_version_history\"\n",
    "android_data = urlopen(andriod_url)\n",
    "print(type(android_data))\n",
    "android_html = android_data.read()\n",
    "#print(android_html)\n",
    "android_data.close()"
   ]
  },
  {
   "cell_type": "code",
   "execution_count": 4,
   "metadata": {},
   "outputs": [
    {
     "name": "stdout",
     "output_type": "stream",
     "text": [
      "<class 'bs4.BeautifulSoup'>\n"
     ]
    },
    {
     "data": {
      "text/plain": [
       "[]"
      ]
     },
     "execution_count": 4,
     "metadata": {},
     "output_type": "execute_result"
    }
   ],
   "source": [
    "from bs4 import BeautifulSoup as soup\n",
    "android_soup = soup(android_html,'html.parser')\n",
    "#print(android_soup)\n",
    "print(type(android_soup))\n",
    "android_soup.h1\n",
    "android_soup.findAll('h',{})"
   ]
  },
  {
   "cell_type": "code",
   "execution_count": 5,
   "metadata": {},
   "outputs": [
    {
     "name": "stdout",
     "output_type": "stream",
     "text": [
      "30\n",
      "6\n",
      "Codename\n",
      "\n",
      "['Codename', 'Versionnumbers', 'Linux kernelversions[2]', 'Initial releasedate', 'APIlevel', 'Ref.']\n"
     ]
    }
   ],
   "source": [
    "tables = android_soup.findAll('table',{'class':'wikitable'})\n",
    "print(len(tables))\n",
    "android_table = tables[0]\n",
    "#print(android_table)\n",
    "headers = android_table.findAll('th')\n",
    "print(len(headers))\n",
    "print(headers[0].text)\n",
    "column_titles = [ct.text[:-1] for ct in headers]\n",
    "print(column_titles)"
   ]
  },
  {
   "cell_type": "code",
   "execution_count": 6,
   "metadata": {},
   "outputs": [
    {
     "name": "stdout",
     "output_type": "stream",
     "text": [
      "18\n",
      "No codenam\n",
      "Old version, no longer supported: 1.0\n",
      "2.1\n",
      "September 23, 200\n",
      "1\n",
      "[3]\n"
     ]
    }
   ],
   "source": [
    "rows_data = android_table.findAll('tr')[1:]\n",
    "print(len(rows_data))\n",
    "first_row = rows_data[0].findAll('td',{})\n",
    "#print(first_row)\n",
    "for d in first_row:\n",
    "    print(d.text[:-1])"
   ]
  },
  {
   "cell_type": "code",
   "execution_count": 7,
   "metadata": {},
   "outputs": [
    {
     "name": "stdout",
     "output_type": "stream",
     "text": [
      "[['No codename', '1.0', '2.1', 'September 23, 2008', '1', '[3]'], ['Petit Four (only internally used)', '1.1', '2.6', 'February 9, 2009', '2', '[3]'], ['Cupcake', '1.5', '2.6.2', 'April 27, 2009', '3', ''], ['Donut', '1.6', '2.6.2', 'September 15, 2009', '4', '[4]'], ['Eclair', '2.0 – 2.1', '2.6.2', 'October 26, 2009', '5 – 7', '[5]'], ['Froyo', '2.2 – 2.2.3', '2.6.3', 'May 20, 2010', '8', '[6]'], ['Gingerbread', '2.3 – 2.3.7', '2.6.3', 'December 6, 2010', '9 – 10', '[7]'], ['Honeycomb', '3.0 – 3.2.6', '2.6.3', 'February 22, 2011', '11 – 13', '[8]'], ['Ice Cream Sandwich', '4.0 – 4.0.4', '3.0.', 'October 18, 2011', '14 – 15', '[9]'], ['Jelly Bean', '4.1 – 4.3.1', '3.0.31 and 3.4.3', 'July 9, 2012', '16 – 18', '[10]'], ['KitKat', '4.4 – 4.4.4', '3.1', 'October 31, 2013', '19 – 20', '[11]'], ['Lollipop', '5.0 – 5.1.1', '3.1', 'November 12, 2014', '21 – 22', '[12]'], ['Marshmallow', '6.0 – 6.0.1', '3.1', 'October 5, 2015', '23', '[13]'], ['Nougat', '7.0 – 7.1.2', '4.', 'August 22, 2016', '24 – 25', '[14]'], ['Oreo', '8.0 – 8.1', '4.1', 'August 21, 2017', '26 – 27', '[15]'], ['Pie', '9.', '4.4.107, 4.9.84, and 4.14.4', 'August 6, 2018', '28', '[16]'], ['Android 10 (public name; Queen Cake was proposed)[17]Quince Tart (internal)[18]', '10.', '', 'September 3, 2019', '2', ''], ['Legend:Old versionOlder version, still supportedLatest versionLatest preview versionFuture release\\n']]\n"
     ]
    }
   ],
   "source": [
    "table_rows = []\n",
    "for row in rows_data:\n",
    "    current_row = []\n",
    "    row_data = row.findAll('td',{})\n",
    "    for idx, data in enumerate (row_data):\n",
    "        if idx == 1:\n",
    "            current_row.append(data.text[:-1].split(\": \")[-1])\n",
    "        elif idx != 0 and idx != 3:\n",
    "            current_row.append(data.text[:-1])\n",
    "        else:\n",
    "            current_row.append(data.text)\n",
    "    table_rows.append(current_row)\n",
    "print(table_rows)"
   ]
  },
  {
   "cell_type": "code",
   "execution_count": 8,
   "metadata": {},
   "outputs": [],
   "source": [
    "filename = 'android_version_history.csv'\n",
    "with open(filename, 'w',encoding = 'utf-8') as f:\n",
    "    #write the header\n",
    "    header_string = ','.join(column_titles)\n",
    "    header_string += '\\n'\n",
    "    f.write(header_string)\n",
    "    for row in table_rows:\n",
    "        row_string = \" \"\n",
    "        for w in row:\n",
    "            w = w.replace(\",\",\" \")\n",
    "            row_string += w + \",\"\n",
    "        row_string = row_string[:-1]\n",
    "        row_string +='\\n'\n",
    "        f.write(row_string)"
   ]
  },
  {
   "cell_type": "code",
   "execution_count": 11,
   "metadata": {},
   "outputs": [
    {
     "data": {
      "text/plain": [
       "'September 23  2008'"
      ]
     },
     "execution_count": 11,
     "metadata": {},
     "output_type": "execute_result"
    }
   ],
   "source": [
    "import pandas as pd\n",
    "df = pd.read_csv('android_version_history.csv')\n",
    "df.head(18)\n",
    "df.iloc[0][3]"
   ]
  },
  {
   "cell_type": "code",
   "execution_count": 16,
   "metadata": {},
   "outputs": [
    {
     "ename": "SyntaxError",
     "evalue": "unexpected EOF while parsing (<ipython-input-16-2fe23d585572>, line 2)",
     "output_type": "error",
     "traceback": [
      "\u001b[1;36m  File \u001b[1;32m\"<ipython-input-16-2fe23d585572>\"\u001b[1;36m, line \u001b[1;32m2\u001b[0m\n\u001b[1;33m    with open('android.html',encoding = 'utf-8') as f:\u001b[0m\n\u001b[1;37m                                                      ^\u001b[0m\n\u001b[1;31mSyntaxError\u001b[0m\u001b[1;31m:\u001b[0m unexpected EOF while parsing\n"
     ]
    }
   ],
   "source": [
    "#Webscrapping of local files\n",
    "with open('android.html',encoding = 'utf-8') as f:"
   ]
  },
  {
   "cell_type": "code",
   "execution_count": null,
   "metadata": {},
   "outputs": [],
   "source": []
  },
  {
   "cell_type": "code",
   "execution_count": null,
   "metadata": {},
   "outputs": [],
   "source": []
  },
  {
   "cell_type": "code",
   "execution_count": null,
   "metadata": {},
   "outputs": [],
   "source": []
  },
  {
   "cell_type": "code",
   "execution_count": null,
   "metadata": {},
   "outputs": [],
   "source": []
  },
  {
   "cell_type": "code",
   "execution_count": null,
   "metadata": {},
   "outputs": [],
   "source": []
  },
  {
   "cell_type": "code",
   "execution_count": null,
   "metadata": {},
   "outputs": [],
   "source": []
  },
  {
   "cell_type": "code",
   "execution_count": null,
   "metadata": {},
   "outputs": [],
   "source": []
  }
 ],
 "metadata": {
  "kernelspec": {
   "display_name": "Python 3",
   "language": "python",
   "name": "python3"
  },
  "language_info": {
   "codemirror_mode": {
    "name": "ipython",
    "version": 3
   },
   "file_extension": ".py",
   "mimetype": "text/x-python",
   "name": "python",
   "nbconvert_exporter": "python",
   "pygments_lexer": "ipython3",
   "version": "3.7.0"
  }
 },
 "nbformat": 4,
 "nbformat_minor": 2
}
